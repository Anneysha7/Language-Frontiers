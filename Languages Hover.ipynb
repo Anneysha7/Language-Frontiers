{
 "cells": [
  {
   "cell_type": "code",
   "execution_count": 1,
   "metadata": {},
   "outputs": [],
   "source": [
    "import numpy as np\n",
    "import pandas as pd\n",
    "\n",
    "import seaborn as sns\n",
    "import matplotlib.pyplot as plt\n",
    "\n",
    "import geopandas as gpd\n",
    "from shapely import wkt\n",
    "from shapely.geometry import Polygon\n",
    "\n",
    "import json\n",
    "\n",
    "from bokeh.models import ColumnDataSource, HoverTool, GeoJSONDataSource\n",
    "from bokeh.plotting import figure, save, curdoc\n",
    "from bokeh.io import output_file, show, export_svg\n",
    "from bokeh.layouts import column"
   ]
  },
  {
   "cell_type": "code",
   "execution_count": 2,
   "metadata": {},
   "outputs": [],
   "source": [
    "world_df = gpd.read_file(gpd.datasets.get_path('naturalearth_lowres'))"
   ]
  },
  {
   "cell_type": "code",
   "execution_count": 3,
   "metadata": {},
   "outputs": [],
   "source": [
    "asia_df = world_df[world_df['continent'] == 'Asia']"
   ]
  },
  {
   "cell_type": "code",
   "execution_count": 4,
   "metadata": {},
   "outputs": [
    {
     "data": {
      "text/html": [
       "<div>\n",
       "<style scoped>\n",
       "    .dataframe tbody tr th:only-of-type {\n",
       "        vertical-align: middle;\n",
       "    }\n",
       "\n",
       "    .dataframe tbody tr th {\n",
       "        vertical-align: top;\n",
       "    }\n",
       "\n",
       "    .dataframe thead th {\n",
       "        text-align: right;\n",
       "    }\n",
       "</style>\n",
       "<table border=\"1\" class=\"dataframe\">\n",
       "  <thead>\n",
       "    <tr style=\"text-align: right;\">\n",
       "      <th></th>\n",
       "      <th>pop_est</th>\n",
       "      <th>continent</th>\n",
       "      <th>name</th>\n",
       "      <th>iso_a3</th>\n",
       "      <th>gdp_md_est</th>\n",
       "      <th>geometry</th>\n",
       "    </tr>\n",
       "  </thead>\n",
       "  <tbody>\n",
       "    <tr>\n",
       "      <th>5</th>\n",
       "      <td>18513930.0</td>\n",
       "      <td>Asia</td>\n",
       "      <td>Kazakhstan</td>\n",
       "      <td>KAZ</td>\n",
       "      <td>181665</td>\n",
       "      <td>POLYGON ((87.35997 49.21498, 86.59878 48.54918...</td>\n",
       "    </tr>\n",
       "    <tr>\n",
       "      <th>6</th>\n",
       "      <td>33580650.0</td>\n",
       "      <td>Asia</td>\n",
       "      <td>Uzbekistan</td>\n",
       "      <td>UZB</td>\n",
       "      <td>57921</td>\n",
       "      <td>POLYGON ((55.96819 41.30864, 55.92892 44.99586...</td>\n",
       "    </tr>\n",
       "    <tr>\n",
       "      <th>8</th>\n",
       "      <td>270625568.0</td>\n",
       "      <td>Asia</td>\n",
       "      <td>Indonesia</td>\n",
       "      <td>IDN</td>\n",
       "      <td>1119190</td>\n",
       "      <td>MULTIPOLYGON (((141.00021 -2.60015, 141.01706 ...</td>\n",
       "    </tr>\n",
       "    <tr>\n",
       "      <th>24</th>\n",
       "      <td>1293119.0</td>\n",
       "      <td>Asia</td>\n",
       "      <td>Timor-Leste</td>\n",
       "      <td>TLS</td>\n",
       "      <td>2017</td>\n",
       "      <td>POLYGON ((124.96868 -8.89279, 125.08625 -8.656...</td>\n",
       "    </tr>\n",
       "    <tr>\n",
       "      <th>76</th>\n",
       "      <td>9053300.0</td>\n",
       "      <td>Asia</td>\n",
       "      <td>Israel</td>\n",
       "      <td>ISR</td>\n",
       "      <td>394652</td>\n",
       "      <td>POLYGON ((35.71992 32.70919, 35.54567 32.39399...</td>\n",
       "    </tr>\n",
       "  </tbody>\n",
       "</table>\n",
       "</div>"
      ],
      "text/plain": [
       "        pop_est continent         name iso_a3  gdp_md_est  \\\n",
       "5    18513930.0      Asia   Kazakhstan    KAZ      181665   \n",
       "6    33580650.0      Asia   Uzbekistan    UZB       57921   \n",
       "8   270625568.0      Asia    Indonesia    IDN     1119190   \n",
       "24    1293119.0      Asia  Timor-Leste    TLS        2017   \n",
       "76    9053300.0      Asia       Israel    ISR      394652   \n",
       "\n",
       "                                             geometry  \n",
       "5   POLYGON ((87.35997 49.21498, 86.59878 48.54918...  \n",
       "6   POLYGON ((55.96819 41.30864, 55.92892 44.99586...  \n",
       "8   MULTIPOLYGON (((141.00021 -2.60015, 141.01706 ...  \n",
       "24  POLYGON ((124.96868 -8.89279, 125.08625 -8.656...  \n",
       "76  POLYGON ((35.71992 32.70919, 35.54567 32.39399...  "
      ]
     },
     "execution_count": 4,
     "metadata": {},
     "output_type": "execute_result"
    }
   ],
   "source": [
    "asia_df.head()"
   ]
  },
  {
   "cell_type": "code",
   "execution_count": 5,
   "metadata": {},
   "outputs": [],
   "source": [
    "asia_languages = pd.read_csv('data/asian_languages_profile.csv')"
   ]
  },
  {
   "cell_type": "code",
   "execution_count": 6,
   "metadata": {},
   "outputs": [],
   "source": [
    "asia_languages = pd.merge(left=asia_languages, right=asia_df,\n",
    "                          how='inner',\n",
    "                          left_on='Country',\n",
    "                          right_on='name',\n",
    "                          suffixes=('', '_remove'))\n",
    "asia_languages.drop([i for i in asia_languages.columns if 'remove' in i],\n",
    "                    axis=1,\n",
    "                    inplace=True)\n",
    "asia_languages.drop([i for i in asia_languages if '_y' in i],\n",
    "                    axis=1,\n",
    "                    inplace=True)"
   ]
  },
  {
   "cell_type": "code",
   "execution_count": 7,
   "metadata": {},
   "outputs": [
    {
     "data": {
      "text/html": [
       "<div>\n",
       "<style scoped>\n",
       "    .dataframe tbody tr th:only-of-type {\n",
       "        vertical-align: middle;\n",
       "    }\n",
       "\n",
       "    .dataframe tbody tr th {\n",
       "        vertical-align: top;\n",
       "    }\n",
       "\n",
       "    .dataframe thead th {\n",
       "        text-align: right;\n",
       "    }\n",
       "</style>\n",
       "<table border=\"1\" class=\"dataframe\">\n",
       "  <thead>\n",
       "    <tr style=\"text-align: right;\">\n",
       "      <th></th>\n",
       "      <th>Country</th>\n",
       "      <th>Region</th>\n",
       "      <th>Language</th>\n",
       "      <th>Keyword</th>\n",
       "      <th>pop_est</th>\n",
       "      <th>continent</th>\n",
       "      <th>name</th>\n",
       "      <th>iso_a3</th>\n",
       "      <th>gdp_md_est</th>\n",
       "      <th>geometry</th>\n",
       "    </tr>\n",
       "  </thead>\n",
       "  <tbody>\n",
       "    <tr>\n",
       "      <th>0</th>\n",
       "      <td>Armenia</td>\n",
       "      <td>West</td>\n",
       "      <td>Armenian</td>\n",
       "      <td>Why is Armeinian hard to learn?</td>\n",
       "      <td>2957731.0</td>\n",
       "      <td>Asia</td>\n",
       "      <td>Armenia</td>\n",
       "      <td>ARM</td>\n",
       "      <td>13672</td>\n",
       "      <td>POLYGON ((46.50572 38.77061, 46.14362 38.74120...</td>\n",
       "    </tr>\n",
       "    <tr>\n",
       "      <th>1</th>\n",
       "      <td>Azerbaijan</td>\n",
       "      <td>West</td>\n",
       "      <td>Azerbaijani</td>\n",
       "      <td>Why is Azerbaijani a critical language?</td>\n",
       "      <td>10023318.0</td>\n",
       "      <td>Asia</td>\n",
       "      <td>Azerbaijan</td>\n",
       "      <td>AZE</td>\n",
       "      <td>48047</td>\n",
       "      <td>MULTIPOLYGON (((46.40495 41.86068, 46.68607 41...</td>\n",
       "    </tr>\n",
       "    <tr>\n",
       "      <th>2</th>\n",
       "      <td>Cyprus</td>\n",
       "      <td>West</td>\n",
       "      <td>Greek, Turkish</td>\n",
       "      <td>Why is Greek used in Science?</td>\n",
       "      <td>1198575.0</td>\n",
       "      <td>Asia</td>\n",
       "      <td>Cyprus</td>\n",
       "      <td>CYP</td>\n",
       "      <td>24948</td>\n",
       "      <td>POLYGON ((32.73178 35.14003, 32.91957 35.08783...</td>\n",
       "    </tr>\n",
       "    <tr>\n",
       "      <th>3</th>\n",
       "      <td>Georgia</td>\n",
       "      <td>West</td>\n",
       "      <td>Georgian</td>\n",
       "      <td>Where does Georgian come from?</td>\n",
       "      <td>3720382.0</td>\n",
       "      <td>Asia</td>\n",
       "      <td>Georgia</td>\n",
       "      <td>GEO</td>\n",
       "      <td>17477</td>\n",
       "      <td>POLYGON ((39.95501 43.43500, 40.07696 43.55310...</td>\n",
       "    </tr>\n",
       "    <tr>\n",
       "      <th>4</th>\n",
       "      <td>Iran</td>\n",
       "      <td>West</td>\n",
       "      <td>Persian</td>\n",
       "      <td>Why is Persian not on Duolingo?</td>\n",
       "      <td>82913906.0</td>\n",
       "      <td>Asia</td>\n",
       "      <td>Iran</td>\n",
       "      <td>IRN</td>\n",
       "      <td>453996</td>\n",
       "      <td>POLYGON ((48.56797 29.92678, 48.01457 30.45246...</td>\n",
       "    </tr>\n",
       "  </tbody>\n",
       "</table>\n",
       "</div>"
      ],
      "text/plain": [
       "      Country Region        Language                                  Keyword  \\\n",
       "0     Armenia   West        Armenian          Why is Armeinian hard to learn?   \n",
       "1  Azerbaijan   West     Azerbaijani  Why is Azerbaijani a critical language?   \n",
       "2      Cyprus   West  Greek, Turkish            Why is Greek used in Science?   \n",
       "3     Georgia   West        Georgian           Where does Georgian come from?   \n",
       "4        Iran   West         Persian          Why is Persian not on Duolingo?   \n",
       "\n",
       "      pop_est continent        name iso_a3  gdp_md_est  \\\n",
       "0   2957731.0      Asia     Armenia    ARM       13672   \n",
       "1  10023318.0      Asia  Azerbaijan    AZE       48047   \n",
       "2   1198575.0      Asia      Cyprus    CYP       24948   \n",
       "3   3720382.0      Asia     Georgia    GEO       17477   \n",
       "4  82913906.0      Asia        Iran    IRN      453996   \n",
       "\n",
       "                                            geometry  \n",
       "0  POLYGON ((46.50572 38.77061, 46.14362 38.74120...  \n",
       "1  MULTIPOLYGON (((46.40495 41.86068, 46.68607 41...  \n",
       "2  POLYGON ((32.73178 35.14003, 32.91957 35.08783...  \n",
       "3  POLYGON ((39.95501 43.43500, 40.07696 43.55310...  \n",
       "4  POLYGON ((48.56797 29.92678, 48.01457 30.45246...  "
      ]
     },
     "execution_count": 7,
     "metadata": {},
     "output_type": "execute_result"
    }
   ],
   "source": [
    "asia_languages.head()"
   ]
  },
  {
   "cell_type": "code",
   "execution_count": 8,
   "metadata": {},
   "outputs": [],
   "source": [
    "asia_languages_gpd = gpd.GeoDataFrame(asia_languages, geometry='geometry')"
   ]
  },
  {
   "cell_type": "code",
   "execution_count": 9,
   "metadata": {},
   "outputs": [
    {
     "data": {
      "text/plain": [
       "<AxesSubplot: >"
      ]
     },
     "execution_count": 9,
     "metadata": {},
     "output_type": "execute_result"
    },
    {
     "data": {
      "image/png": "[encoded data removed]",
      "text/plain": [
       "<Figure size 640x480 with 1 Axes>"
      ]
     },
     "metadata": {},
     "output_type": "display_data"
    }
   ],
   "source": [
    "asia_languages_gpd.plot(column='Region')"
   ]
  },
  {
   "cell_type": "code",
   "execution_count": 10,
   "metadata": {},
   "outputs": [],
   "source": [
    "asia_lang_geosource = GeoJSONDataSource(geojson = asia_languages_gpd.to_json())\n",
    "\n",
    "TOOLTIPS = [('Country',\"@Country\"),\n",
    "            ('Language', '@Language'),\n",
    "            ('Search', '@Keyword')]\n",
    "\n",
    "p = figure(title='Google Search: Asian Languages',\n",
    "           tooltips=TOOLTIPS,\n",
    "           x_range=(-180,180),\n",
    "           y_range=(-90,90),\n",
    "           x_axis_location=None,\n",
    "           y_axis_location=None)\n",
    "\n",
    "p.patches('xs', 'ys',\n",
    "          fill_alpha=1,\n",
    "          fill_color='yellow',\n",
    "          line_color='black',\n",
    "          line_width=0.5,\n",
    "          source=asia_lang_geosource)\n",
    "\n",
    "p.background_fill_color = \"aqua\"\n",
    "\n",
    "# curdoc().add_root(column(p))"
   ]
  }
 ],
 "metadata": {
  "kernelspec": {
   "display_name": "Python 3",
   "language": "python",
   "name": "python3"
  },
  "language_info": {
   "codemirror_mode": {
    "name": "ipython",
    "version": 3
   },
   "file_extension": ".py",
   "mimetype": "text/x-python",
   "name": "python",
   "nbconvert_exporter": "python",
   "pygments_lexer": "ipython3",
   "version": "3.10.10"
  },
  "orig_nbformat": 4,
  "vscode": {
   "interpreter": {
    "hash": "84fd2673a0f847bf80637898000f9b4175f2ffd476d5f31b41a838c2acdb5b76"
   }
  }
 },
 "nbformat": 4,
 "nbformat_minor": 2
}
